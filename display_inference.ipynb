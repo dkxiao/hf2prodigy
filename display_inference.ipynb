{
 "cells": [
  {
   "cell_type": "markdown",
   "metadata": {},
   "source": [
    "## Display model inference for requirement examples"
   ]
  },
  {
   "cell_type": "code",
   "execution_count": 14,
   "metadata": {},
   "outputs": [],
   "source": [
    "from transformers import AutoTokenizer, AutoModelForTokenClassification\n",
    "from transformers import pipeline\n",
    "import spacy\n",
    "from spacy import displacy"
   ]
  },
  {
   "cell_type": "code",
   "execution_count": 29,
   "metadata": {},
   "outputs": [
    {
     "name": "stdout",
     "output_type": "stream",
     "text": [
      "eigen frequencies\n",
      "compact equipment and boxes in hard- mounted conditions\n",
      "be\n",
      "above\n",
      "140 Hz\n"
     ]
    },
    {
     "data": {
      "text/html": [
       "<span class=\"tex2jax_ignore\"><div class=\"entities\" style=\"line-height: 2.5; direction: ltr\">The \n",
       "<mark class=\"entity\" style=\"background: #ddd; padding: 0.45em 0.6em; margin: 0 0.25em; line-height: 1; border-radius: 0.35em;\">\n",
       "    eigen frequencies\n",
       "    <span style=\"font-size: 0.8em; font-weight: bold; line-height: 1; border-radius: 0.35em; vertical-align: middle; margin-left: 0.5rem\">ATTR</span>\n",
       "</mark>\n",
       " of \n",
       "<mark class=\"entity\" style=\"background: #ddd; padding: 0.45em 0.6em; margin: 0 0.25em; line-height: 1; border-radius: 0.35em;\">\n",
       "    compact equipment and boxes in hard- mounted conditions\n",
       "    <span style=\"font-size: 0.8em; font-weight: bold; line-height: 1; border-radius: 0.35em; vertical-align: middle; margin-left: 0.5rem\">ENT</span>\n",
       "</mark>\n",
       " shall \n",
       "<mark class=\"entity\" style=\"background: #ddd; padding: 0.45em 0.6em; margin: 0 0.25em; line-height: 1; border-radius: 0.35em;\">\n",
       "    be\n",
       "    <span style=\"font-size: 0.8em; font-weight: bold; line-height: 1; border-radius: 0.35em; vertical-align: middle; margin-left: 0.5rem\">ACT</span>\n",
       "</mark>\n",
       " \n",
       "<mark class=\"entity\" style=\"background: #ddd; padding: 0.45em 0.6em; margin: 0 0.25em; line-height: 1; border-radius: 0.35em;\">\n",
       "    above\n",
       "    <span style=\"font-size: 0.8em; font-weight: bold; line-height: 1; border-radius: 0.35em; vertical-align: middle; margin-left: 0.5rem\">RELOP</span>\n",
       "</mark>\n",
       " \n",
       "<mark class=\"entity\" style=\"background: #ddd; padding: 0.45em 0.6em; margin: 0 0.25em; line-height: 1; border-radius: 0.35em;\">\n",
       "    140 Hz\n",
       "    <span style=\"font-size: 0.8em; font-weight: bold; line-height: 1; border-radius: 0.35em; vertical-align: middle; margin-left: 0.5rem\">QUANT</span>\n",
       "</mark>\n",
       "</div></span>"
      ],
      "text/plain": [
       "<IPython.core.display.HTML object>"
      ]
     },
     "metadata": {},
     "output_type": "display_data"
    },
    {
     "name": "stdout",
     "output_type": "stream",
     "text": [
      "{'entity_group': 'ATTR', 'score': 0.9963108, 'word': 'eigen frequencies', 'start': 4, 'end': 21}\n",
      "{'entity_group': 'ENT', 'score': 0.99443984, 'word': 'compact equipment and boxes in hard - mounted conditions', 'start': 25, 'end': 80}\n",
      "{'entity_group': 'ACT', 'score': 0.81404585, 'word': 'be', 'start': 87, 'end': 89}\n",
      "{'entity_group': 'RELOP', 'score': 0.9930934, 'word': 'above', 'start': 90, 'end': 95}\n",
      "{'entity_group': 'QUANT', 'score': 0.99677134, 'word': '140 Hz', 'start': 96, 'end': 102}\n"
     ]
    }
   ],
   "source": [
    "tokenizer = AutoTokenizer.from_pretrained(\"bert-base-cased\")\n",
    "model = AutoModelForTokenClassification.from_pretrained(\"dxiao/bert-finetuned-ner-100percent\")\n",
    "\n",
    "pipe = pipeline(\"ner\", model=model, tokenizer=tokenizer, aggregation_strategy=\"simple\")\n",
    "\n",
    "# TYPE IN EXAMPLE HERE\n",
    "example = \"The eigen frequencies of compact equipment and boxes in hard- mounted conditions shall be above 140 Hz\"\n",
    "# example = \"The Payload shall resist an acceleration of at least 60Gs of shocks\"\n",
    "# example = \"The SKA1_Mid shall be capable of providing pulsar phase bin widths with a time resolution of better than 10 us.\"\n",
    "\n",
    "ner_results = pipe(example)\n",
    "\n",
    "spacy_pipe = spacy.blank(\"en\")\n",
    "doc = spacy_pipe(example)\n",
    "\n",
    "ents = []\n",
    "for i in ner_results:\n",
    "    span = doc.char_span(i['start'], i['end'], label=i['entity_group']) #None if mapping issue\n",
    "    ents.append(span)\n",
    "    print(span)\n",
    "doc.ents = ents\n",
    "displacy.render(doc, style = 'ent')\n",
    "\n",
    "for i in ner_results:\n",
    "    print(f'{i}')"
   ]
  }
 ],
 "metadata": {
  "kernelspec": {
   "display_name": "Python 3.9.13 64-bit",
   "language": "python",
   "name": "python3"
  },
  "language_info": {
   "codemirror_mode": {
    "name": "ipython",
    "version": 3
   },
   "file_extension": ".py",
   "mimetype": "text/x-python",
   "name": "python",
   "nbconvert_exporter": "python",
   "pygments_lexer": "ipython3",
   "version": "3.9.13"
  },
  "orig_nbformat": 4,
  "vscode": {
   "interpreter": {
    "hash": "0069e35276b4b16933fc948b1a9f9ae6be664e95860c7c07ee003b238b1460ad"
   }
  }
 },
 "nbformat": 4,
 "nbformat_minor": 2
}
