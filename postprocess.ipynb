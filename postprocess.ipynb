{
 "cells": [
  {
   "cell_type": "code",
   "execution_count": 27,
   "metadata": {},
   "outputs": [],
   "source": [
    "# postprocess prodigy results by assigning label to each word in huggingface dataset format"
   ]
  },
  {
   "cell_type": "code",
   "execution_count": 1,
   "metadata": {},
   "outputs": [],
   "source": [
    "import json\n",
    "import spacy\n",
    "\n",
    "from prodigy.components.db import connect"
   ]
  },
  {
   "cell_type": "code",
   "execution_count": 2,
   "metadata": {},
   "outputs": [],
   "source": [
    "# assign dict with numbers for each entity component\n",
    "entities = ['O', 'B-ACT', 'I-ACT', 'B-ATTR', 'I-ATTR', 'B-RELOP', 'I-RELOP', 'B-QUANT', 'I-QUANT', 'B-ENT', 'I-ENT']\n",
    "entities_dict  = {entities[i]: i for i in range(len(entities))}"
   ]
  },
  {
   "cell_type": "code",
   "execution_count": 5,
   "metadata": {},
   "outputs": [],
   "source": [
    "prodigy_name = 'ner_req_train_labeled'"
   ]
  },
  {
   "cell_type": "code",
   "execution_count": 6,
   "metadata": {},
   "outputs": [],
   "source": [
    "db = connect()\n",
    "prodigy_annotations = db.get_dataset(prodigy_name)\n",
    "examples = ((eg[\"text\"], eg) for eg in prodigy_annotations)\n",
    "nlp = spacy.blank(\"en\")\n",
    "\n",
    "dataset = []\n",
    "\n",
    "for doc, eg in nlp.pipe(examples, as_tuples=True):\n",
    "    try:\n",
    "        doc.ents = [doc.char_span(s[\"start\"], s[\"end\"], s[\"label\"]) for s in eg[\"spans\"]]\n",
    "        iob_tags = [f\"{t.ent_iob_}-{t.ent_type_}\" if t.ent_iob_ else \"O\" for t in doc]\n",
    "        iob_tags = [t.strip(\"-\") for t in iob_tags] # tags as entity name\n",
    "        ner_tags = [entities_dict[u] for u in iob_tags] #ner_tags as numbers\n",
    "        tokens = [str(t) for t in doc]\n",
    "        temp_data = {\n",
    "            \"tokens\": tokens,\n",
    "            \"tags\": iob_tags,\n",
    "            \"ner_tags\": ner_tags\n",
    "        }\n",
    "        dataset.append(temp_data)\n",
    "    except:\n",
    "        pass\n",
    "\n",
    "with open('data.jsonl', 'w') as outfile:\n",
    "    for entry in dataset:\n",
    "        json.dump(entry, outfile)\n",
    "        outfile.write('\\n')"
   ]
  },
  {
   "cell_type": "code",
   "execution_count": null,
   "metadata": {},
   "outputs": [],
   "source": []
  }
 ],
 "metadata": {
  "kernelspec": {
   "display_name": "Python 3.9.13 64-bit",
   "language": "python",
   "name": "python3"
  },
  "language_info": {
   "codemirror_mode": {
    "name": "ipython",
    "version": 3
   },
   "file_extension": ".py",
   "mimetype": "text/x-python",
   "name": "python",
   "nbconvert_exporter": "python",
   "pygments_lexer": "ipython3",
   "version": "3.9.13"
  },
  "orig_nbformat": 4,
  "vscode": {
   "interpreter": {
    "hash": "0069e35276b4b16933fc948b1a9f9ae6be664e95860c7c07ee003b238b1460ad"
   }
  }
 },
 "nbformat": 4,
 "nbformat_minor": 2
}
